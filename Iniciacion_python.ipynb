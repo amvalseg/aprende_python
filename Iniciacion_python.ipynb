{
 "cells": [
  {
   "cell_type": "markdown",
   "id": "1a77306e",
   "metadata": {},
   "source": [
    "#### OBJETIVO GENERAL\n",
    "\n",
    "En este notebook vamos a aprender Python paso a paso, usando datos de personas como ejemplo.\n",
    "Aprenderás a crear variables, manejar distintos tipos de datos, hacer operaciones, trabajar con estructuras de datos, condicionales, bucles, funciones y programación orientada a objetos.\n",
    "\n",
    "Todo ello con un enfoque práctico: estos conocimientos se aplican directamente al análisis de datos.\n"
   ]
  },
  {
   "cell_type": "code",
   "execution_count": null,
   "id": "995098bc",
   "metadata": {},
   "outputs": [
    {
     "name": "stdout",
     "output_type": "stream",
     "text": [
      "The Zen of Python, by Tim Peters\n",
      "\n",
      "Beautiful is better than ugly.\n",
      "Explicit is better than implicit.\n",
      "Simple is better than complex.\n",
      "Complex is better than complicated.\n",
      "Flat is better than nested.\n",
      "Sparse is better than dense.\n",
      "Readability counts.\n",
      "Special cases aren't special enough to break the rules.\n",
      "Although practicality beats purity.\n",
      "Errors should never pass silently.\n",
      "Unless explicitly silenced.\n",
      "In the face of ambiguity, refuse the temptation to guess.\n",
      "There should be one-- and preferably only one --obvious way to do it.\n",
      "Although that way may not be obvious at first unless you're Dutch.\n",
      "Now is better than never.\n",
      "Although never is often better than *right* now.\n",
      "If the implementation is hard to explain, it's a bad idea.\n",
      "If the implementation is easy to explain, it may be a good idea.\n",
      "Namespaces are one honking great idea -- let's do more of those!\n"
     ]
    }
   ],
   "source": [
    "#Declaración de intenciones\n",
    "import this"
   ]
  },
  {
   "cell_type": "markdown",
   "id": "7d06a688",
   "metadata": {},
   "source": [
    "#### 1. VARIABLES\n",
    "\n",
    "##### 1.1. Definición:\n",
    "Una variable es un nombre que se usa para guardar un valor en memoria y poder usarlo después. Piensa en ella como una caja con un nombre donde puedes guardar información.\n",
    "\n",
    "Las variables juegan un papel crucial en Python, ya que proporcionan una forma de almacenar y manipular datos a lo largo de un programa. Al asignar valores a las variables, podemos referirnos fácilmente y actualizar los datos según sea necesario, haciendo nuestro código más eficiente y legible. En general, las variables son un concepto fundamental en la programación de Python y son esenciales para cualquier tipo de manipulación y análisis de datos.\n",
    "\n",
    "##### 1.2 Tipos de variables\n",
    "\n",
    "| Tipo    | Ejemplo                                      | Descripción                    |\n",
    "| ------- | -------------------------------------------- | ------------------------------ |\n",
    "| `int`   | `edad = 32`                                  | Números enteros                |\n",
    "| `float` | `altura = 1.68`                              | Números con decimales          |\n",
    "| `str`   | `nombre = \"Ángela\"`                          | Texto                          |\n",
    "| `bool`  | `registrado = True`                          | Verdadero o falso              |\n",
    "| `list`  | `colores = [\"rojo\", \"azul\", \"verde\"]`        | Lista de elementos             |\n",
    "| `dict`  | `persona = {\"nombre\": \"Ángela\", \"edad\": 32}` | Diccionario: pares clave-valor |\n",
    "\n",
    "\n",
    "\n",
    "##### 1.3. Convención nombramiento de variables:\n",
    "\n",
    "- Pueden contener letras, números y guiones bajos _.\n",
    "- No pueden contener espacios\n",
    "- No pueden empezar con un número.\n",
    "- No pueden ser palabras reservadas de Python (como `for`, `if`, `True`, `None`).\n",
    "- Se recomienda usar nombres descriptivos: `nombre_usuario` en vez de `n`.\n",
    "- Son key-sensitive (distinguen entre mayúsculas y minúsculas)\n",
    "- Usa sustantivos singulares para los nombres de las variables. Por ejemplo, `student` es un mejor nombre de variable que `students`.\n",
    "- Sé consistente con las convenciones de nombramiento dentro de tu código\n",
    "- Tipado dinámico: su valor y tipo puede cambiar a lo largo del tiempo, en función de la necesidad."
   ]
  },
  {
   "cell_type": "code",
   "execution_count": 39,
   "id": "b7736565",
   "metadata": {},
   "outputs": [
    {
     "name": "stdout",
     "output_type": "stream",
     "text": [
      "Ana 30 1.65 1995-06-15 True ['azul', 'violeta', 'naranja'] ana@email.com\n"
     ]
    }
   ],
   "source": [
    "#Declaramos las variables con distintos tipos de datos\n",
    "nombre = \"Ana\"                 # texto\n",
    "edad = 30                      # número entero\n",
    "altura = 1.65                  # número decimal\n",
    "fecha_nacimiento = \"1995-06-15\"  # texto\n",
    "registrado = True              # booleano (sí/no)\n",
    "seleccion_color = [\"azul\", \"violeta\", \"naranja\"]       # lista\n",
    "email = \"ana@email.com\"        # texto)\n",
    "# Mostramos toda la información\n",
    "print(nombre, edad, altura, fecha_nacimiento, registrado, seleccion_color, email)"
   ]
  },
  {
   "cell_type": "markdown",
   "id": "47c3901e",
   "metadata": {},
   "source": [
    "##### 1.3. Tipos de datos:"
   ]
  },
  {
   "cell_type": "code",
   "execution_count": 40,
   "id": "a991a6cf",
   "metadata": {},
   "outputs": [
    {
     "name": "stdout",
     "output_type": "stream",
     "text": [
      "<class 'str'>\n",
      "<class 'int'>\n",
      "<class 'float'>\n",
      "<class 'bool'>\n"
     ]
    }
   ],
   "source": [
    "#Visualizamos los tipos de datos\n",
    "print(type(nombre))           # str -> texto\n",
    "print(type(edad))             # int -> número entero\n",
    "print(type(altura))           # float -> número decimal\n",
    "print(type(registrado))       # bool -> verdadero/falso"
   ]
  },
  {
   "cell_type": "code",
   "execution_count": 41,
   "id": "d73aee3c",
   "metadata": {},
   "outputs": [
    {
     "name": "stdout",
     "output_type": "stream",
     "text": [
      "Edad como string: 30\n",
      "<class 'str'>\n"
     ]
    }
   ],
   "source": [
    "#Creación de una variable nueva a partir de otra cambiando el tipo de dato\n",
    "edad_str = str(edad)\n",
    "print(\"Edad como string:\", edad_str)\n",
    "print(type(edad_str))"
   ]
  },
  {
   "cell_type": "markdown",
   "id": "7c4187d3",
   "metadata": {},
   "source": [
    "#### 2. OPERADORES\n",
    "\n",
    "##### 2.1. Definición:\n",
    "Un operador es un símbolo especial que indica a Python que debe realizar una operación sobre uno o varios valores (operandos).\n",
    "\n",
    "Los operadores permiten hacer cálculos, comparaciones, comprobaciones lógicas y manipulaciones de datos.\n",
    "\n",
    "Tipos principales de operadores\n",
    "\n",
    "- `Aritméticos` → Operaciones matemáticas (+, -, *, /, //, %, **)\n",
    "    - aplicación: calcular indicadores, ratios o métricas (ej. edad promedio, % de cumplimiento). \n",
    "\n",
    "- `Relacionales` → Comparaciones (>, <, ==, !=, >=, <=)\n",
    "    - aplicación: filtrar datos (ej. seleccionar personas mayores de 18 años).\n",
    "\n",
    "- `Lógicos` → Combinaciones de condiciones (and, or, not)\n",
    "    - aplicación: aplicar condiciones múltiples (ej. usuarios mayores de 30 y registrados).\n",
    "\n",
    "- `Pertenencia` → Comprobar si un elemento está en una secuencia (in, not in)\n",
    "    - aplicación: buscar valores en columnas o listas (ej. comprobar si \"España\" está en la lista de países).\n",
    "\n",
    "- `Identidad` → Verificar si dos variables apuntan al mismo objeto en memoria (is, is not)\n",
    "    - aplicación: más usado en depuración de código, para verificar si dos variables se refieren al mismo objeto."
   ]
  },
  {
   "cell_type": "code",
   "execution_count": 43,
   "id": "3c19a6fb",
   "metadata": {},
   "outputs": [
    {
     "data": {
      "text/plain": [
       "31"
      ]
     },
     "execution_count": 43,
     "metadata": {},
     "output_type": "execute_result"
    }
   ],
   "source": [
    "# EJEMPLOS OPERADORES ARITMËTICOS\n",
    "\n",
    "edad_siguiente = edad + 1             # Sumar -> edad el próximo año\n",
    "edad_siguiente"
   ]
  },
  {
   "cell_type": "code",
   "execution_count": 44,
   "id": "9dc99c9c",
   "metadata": {},
   "outputs": [
    {
     "data": {
      "text/plain": [
       "165.0"
      ]
     },
     "execution_count": 44,
     "metadata": {},
     "output_type": "execute_result"
    }
   ],
   "source": [
    "altura_cm = altura * 100              # Multiplicar -> convertir a centímetros\n",
    "altura_cm"
   ]
  },
  {
   "cell_type": "code",
   "execution_count": 47,
   "id": "bce43983",
   "metadata": {},
   "outputs": [
    {
     "data": {
      "text/plain": [
       "35"
      ]
     },
     "execution_count": 47,
     "metadata": {},
     "output_type": "execute_result"
    }
   ],
   "source": [
    "años_hasta_jubilacion = 65 - edad     # Restar -> cuántos años faltan\n",
    "años_hasta_jubilacion"
   ]
  },
  {
   "cell_type": "code",
   "execution_count": 48,
   "id": "c79b5986",
   "metadata": {},
   "outputs": [
    {
     "data": {
      "text/plain": [
       "15.0"
      ]
     },
     "execution_count": 48,
     "metadata": {},
     "output_type": "execute_result"
    }
   ],
   "source": [
    "mitad_edad = edad / 2                 # División con decimales\n",
    "mitad_edad"
   ]
  },
  {
   "cell_type": "code",
   "execution_count": 51,
   "id": "f60ca91a",
   "metadata": {},
   "outputs": [
    {
     "name": "stdout",
     "output_type": "stream",
     "text": [
      "Década: 3 ; Par: 0 ; Edad al cuadrado: 900\n"
     ]
    }
   ],
   "source": [
    "decada = edad // 10                   # División entera -> número de décadas\n",
    "resto_division = edad % 2             # Módulo -> comprobar si la edad es par\n",
    "edad_al_cuadrado = edad ** 2          # Potencia -> edad al cuadrado\n",
    "\n",
    "print(\"Década:\", decada, \"; Par:\", resto_division, \"; Edad al cuadrado:\", edad_al_cuadrado)"
   ]
  },
  {
   "cell_type": "code",
   "execution_count": null,
   "id": "439bd368",
   "metadata": {},
   "outputs": [
    {
     "name": "stdout",
     "output_type": "stream",
     "text": [
      "True False True True\n"
     ]
    }
   ],
   "source": [
    "# EJEMPLOS OPERADORES RELACIONALES O DE COMPARACIÓN\n",
    "es_mayor_de_edad = edad >= 18\n",
    "es_menor_de_30 = edad < 30\n",
    "cumple_edad_exacta = edad == 30\n",
    "edad_diferente = edad != 25\n",
    "\n",
    "print(es_mayor_de_edad, es_menor_de_30, cumple_edad_exacta, edad_diferente)"
   ]
  },
  {
   "cell_type": "code",
   "execution_count": 54,
   "id": "1dab0b4b",
   "metadata": {},
   "outputs": [
    {
     "name": "stdout",
     "output_type": "stream",
     "text": [
      "False True False\n"
     ]
    }
   ],
   "source": [
    "# EJEMPLOS DE OPERADORES LÓGICOS\n",
    "es_joven_y_registrado = (edad < 30) and registrado\n",
    "es_joven_o_registrado = (edad < 30) or registrado\n",
    "no_registrado = not registrado\n",
    "\n",
    "print(es_joven_y_registrado, es_joven_o_registrado, no_registrado)"
   ]
  },
  {
   "cell_type": "code",
   "execution_count": 56,
   "id": "3435f2b8",
   "metadata": {},
   "outputs": [
    {
     "name": "stdout",
     "output_type": "stream",
     "text": [
      "True False True\n"
     ]
    }
   ],
   "source": [
    "# Otros ejemplos de operadores lógicos\n",
    "tiene_email = email != \"\"\n",
    "es_adulto_no_registrado = (edad >= 18) and (not registrado)\n",
    "puede_recibir_ofertas = registrado or tiene_email\n",
    "\n",
    "print(tiene_email, es_adulto_no_registrado, puede_recibir_ofertas)"
   ]
  },
  {
   "cell_type": "code",
   "execution_count": 61,
   "id": "ed9cdaed",
   "metadata": {},
   "outputs": [
    {
     "name": "stdout",
     "output_type": "stream",
     "text": [
      "True False True\n"
     ]
    }
   ],
   "source": [
    "# EJEMPLOS OPERADORES DE PERTENENCIA\n",
    "\n",
    "tiene_color_azul = \"azul\" in seleccion_color\n",
    "tiene_color_verde = \"verde\" in seleccion_color\n",
    "tiene_color_rojo = \"rojo\" not in seleccion_color\n",
    "print(tiene_color_azul, tiene_color_verde, tiene_color_rojo)\n"
   ]
  },
  {
   "cell_type": "code",
   "execution_count": null,
   "id": "fbff0774",
   "metadata": {},
   "outputs": [
    {
     "name": "stdout",
     "output_type": "stream",
     "text": [
      "True True False\n"
     ]
    }
   ],
   "source": [
    "# EJEMPLOS DE OPERADORES DE IDENTIDAD\n",
    "\n",
    "es_mismo_objeto1 = (edad is edad)               # True, mismo objeto\n",
    "es_mismo_objeto2 = (edad is not edad_str)\n",
    "es_mismo_objeto3 = (edad is edad_str)       # True, distinto objeto\n",
    "print(es_mismo_objeto1, es_mismo_objeto2, es_mismo_objeto3)"
   ]
  },
  {
   "cell_type": "code",
   "execution_count": null,
   "id": "be5e6f34",
   "metadata": {},
   "outputs": [],
   "source": []
  }
 ],
 "metadata": {
  "kernelspec": {
   "display_name": ".venv",
   "language": "python",
   "name": "python3"
  },
  "language_info": {
   "codemirror_mode": {
    "name": "ipython",
    "version": 3
   },
   "file_extension": ".py",
   "mimetype": "text/x-python",
   "name": "python",
   "nbconvert_exporter": "python",
   "pygments_lexer": "ipython3",
   "version": "3.13.5"
  }
 },
 "nbformat": 4,
 "nbformat_minor": 5
}
