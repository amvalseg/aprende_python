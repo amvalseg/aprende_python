{
 "cells": [
  {
   "cell_type": "markdown",
   "id": "20f17a91",
   "metadata": {},
   "source": [
    "<div style=\"max-width: 1000px; margin: 0 auto; padding: 20px; text-align: center;\">\n",
    "\n",
    "  <img src=\"img/up.png\" alt=\"Universidad Logo\" width=\"200\"/>\n",
    "  \n",
    "  <h1 style=\"font-size: 2.5em; margin: 10px 0;\">🚀 <strong>Bootcamp de Análisis de Datos & IA</strong></h1>\n",
    "  <h3>🐍 <strong>Introducción a Python para Análisis de Datos</strong></h3>\n",
    "<div style=\"background-color: #f8f9fa; padding: 20px; border-radius: 10px; margin: 20px 0;\">\n",
    "  <p style=\"font-size: 1.2em; margin: 10px 0; color: black;\">🎯 Objetivos de la clase:</p>\n",
    "  <ul style=\"list-style: none; padding-left: 0; margin: 0; color: black;\">\n",
    "    <li style=\"margin: 8px 0;\"><strong>1️⃣ Comprender la lógica básica de Python:</strong> variables, tipos de datos y operadores</li>\n",
    "    <li style=\"margin: 8px 0;\"><strong>2️⃣ Desarrollar habilidades prácticas:</strong> escribir y ejecutar código en un notebook</li>\n",
    "    <li style=\"margin: 8px 0;\"><strong>3️⃣ Fomentar el pensamiento lógico:</strong> resolver ejercicios con datos de personas</li>\n",
    "    <li style=\"margin: 8px 0;\"><strong>4️⃣ Buenas prácticas:</strong> nombres claros, orden en el código y comentarios útiles</li>\n",
    "  </ul>\n",
    "</div>\n",
    "\n",
    "  <h3>📋 <strong>¿Qué vamos a hacer hoy?</strong></h3>\n",
    "  <div style=\"background: linear-gradient(135deg, #667eea 0%, #764ba2 100%); color: white; padding: 20px; border-radius: 15px; margin: 20px 0;\">\n",
    "    <div style=\"display: grid; grid-template-columns: repeat(auto-fit, minmax(180px, 1fr)); gap: 20px; align-items: center;\">\n",
    "      <div style=\"text-align: center;\">\n",
    "        <div style=\"font-size: 2.5em; margin-bottom: 10px;\">📝</div>\n",
    "        <strong style=\"display: block; margin-bottom: 8px;\">Crear Variables</strong>\n",
    "        <small style=\"opacity: 0.9;\">Nombres, edades, atributos</small>\n",
    "      </div>\n",
    "      <div style=\"text-align: center;\">\n",
    "        <div style=\"font-size: 2.5em; margin-bottom: 10px;\">🔍</div>\n",
    "        <strong style=\"display: block; margin-bottom: 8px;\">Explorar Tipos de Datos</strong>\n",
    "        <small style=\"opacity: 0.9;\">str, int, float, bool, list, dict</small>\n",
    "      </div>\n",
    "      <div style=\"text-align: center;\">\n",
    "        <div style=\"font-size: 2.5em; margin-bottom: 10px;\">🔗</div>\n",
    "        <strong style=\"display: block; margin-bottom: 8px;\">Manipular Cadenas</strong>\n",
    "        <small style=\"opacity: 0.9;\">Concatenar, buscar, extraer, modificar</small>\n",
    "      </div>\n",
    "      <div style=\"text-align: center;\">\n",
    "        <div style=\"font-size: 2.5em; margin-bottom: 10px;\">📚</div>\n",
    "        <strong style=\"display: block; margin-bottom: 8px;\">Trabajar con estructuras</strong>\n",
    "        <small style=\"opacity: 0.9;\">Listas, diccionarios, sets y tuplas</small>\n",
    "      </div>\n",
    "    </div>\n",
    "  </div>\n",
    "\n",
    "  <h3>🚀 <strong>Metodología de la Clase</strong></h3>\n",
    "  <div style=\"background-color: #e3f2fd; padding: 15px; border-left: 5px solid #2196f3; margin: 20px 0; border-radius: 10px;\">\n",
    "    <p style=\"color: black;\"><strong>🎯 Equilibrio teoría-práctica:</strong> Cada concepto será aplicado inmediatamente con código real</p>\n",
    "    <p style=\"color: black;\"><strong>📊 Ejemplos cercanos:</strong> Usaremos datos simples pero reales para practicar</p>\n",
    "    <p style=\"color: black;\"><strong>⚡ Best Practices:</strong> Aprenderemos técnicas de código limpio</p>\n",
    "  </div>\n",
    "\n",
    "\n",
    "  <hr style=\"margin: 30px;\"/>\n",
    "\n",
    "</div>"
   ]
  },
  {
   "cell_type": "code",
   "execution_count": 15,
   "id": "1864e240",
   "metadata": {},
   "outputs": [],
   "source": [
    "import this"
   ]
  },
  {
   "cell_type": "markdown",
   "id": "7d06a688",
   "metadata": {},
   "source": [
    "# 📊1. VARIABLES\n",
    "\n",
    "## 🎯 1.1. Definición\n",
    "\n",
    "Una **variable** es un nombre que se usa para guardar un valor en memoria y poder usarlo después. Piensa en ella como una **caja con etiqueta** donde puedes guardar información.\n",
    "\n",
    "> 💡 **¿Por qué son importantes?**  \n",
    "> Las variables son fundamentales en Python porque nos permiten almacenar y manipular datos de manera eficiente, haciendo nuestro código más legible y reutilizable.\n",
    "\n",
    "---\n",
    "\n",
    "## 🏷️ 1.2. Tipos de Variables\n",
    "\n",
    "| Tipo | Ejemplo | Descripción |\n",
    "|------|---------|-------------|\n",
    "| **`int`** | `edad = 32` | Números enteros |\n",
    "| **`float`** | `altura = 1.68` | Números con decimales |\n",
    "| **`str`** | `nombre = \"Ángela\"` | Cadenas de texto |\n",
    "| **`bool`** | `registrado = True` | Verdadero o falso |\n",
    "| **`list`** | `colores = [\"rojo\", \"azul\", \"verde\"]` | Lista de elementos |\n",
    "| **`dict`** | `persona = {\"nombre\": \"Ángela\", \"edad\": 32}` | Diccionario: pares clave-valor |\n",
    "\n",
    "---\n",
    "\n",
    "## 📝 1.3. Reglas de Nomenclatura\n",
    "\n",
    "### ✅ **Permitido:**\n",
    "- Letras, números y guiones bajos `_`\n",
    "- Comenzar con letra o guión bajo\n",
    "- Nombres descriptivos: `nombre_usuario`\n",
    "\n",
    "### ❌ **No Permitido:**\n",
    "- Espacios en blanco\n",
    "- Comenzar con números\n",
    "- Palabras reservadas (`for`, `if`, `True`, `None`, `and`, `print`, `else`, `elif`, `from`)\n",
    "    📚 [Palabras Reservadas en Python](https://learndataworld.com/reserved-words-in-python/)\n",
    "\n",
    "\n",
    "### 📋 **Convenciones de Estilo:**\n",
    "- **Snake_case**: `nombre_completo`, `edad_usuario`\n",
    "- **Nombres descriptivos**: `precio_producto` ✅ vs `p` ❌\n",
    "- **Sustantivos singulares**: `student` ✅ vs `students` ❌\n",
    "\n",
    "### ⚡ **Características Importantes:**\n",
    "- **Case-sensitive**: `Variable` ≠ `variable` ≠ `VARIABLE`\n",
    "- **Tipado dinámico**: El tipo puede cambiar durante la ejecución\n",
    "- **Consistencia**: Mantén el mismo estilo en todo tu código\n",
    "\n",
    "---\n",
    "\n",
    "## 🚀 Empezamos a ejecutar código!!\n",
    "### Declaramos Variables e imprimimos su valor"
   ]
  },
  {
   "cell_type": "code",
   "execution_count": 16,
   "id": "b7736565",
   "metadata": {},
   "outputs": [],
   "source": [
    "#Declaramos las variables con distintos tipos de datos\n",
    "nombre = \"Ana\"                 # texto\n",
    "edad = 30                      # número entero\n",
    "altura = 1.65                  # número decimal\n",
    "fecha_nacimiento = \"1995-06-15\"  # texto\n",
    "registrado = True              # booleano (sí/no)\n",
    "seleccion_color = [\"azul\", \"violeta\", \"naranja\"]       # lista\n",
    "email = \"ana@email.com\"        # texto)\n"
   ]
  },
  {
   "cell_type": "code",
   "execution_count": 17,
   "id": "d792107d",
   "metadata": {},
   "outputs": [
    {
     "name": "stdout",
     "output_type": "stream",
     "text": [
      "Ana 30 1.65 1995-06-15 True ['azul', 'violeta', 'naranja'] ana@email.com\n"
     ]
    }
   ],
   "source": [
    "# Mostramos toda la información\n",
    "print(nombre, edad, altura, fecha_nacimiento, registrado, seleccion_color, email)"
   ]
  },
  {
   "cell_type": "markdown",
   "id": "47c3901e",
   "metadata": {},
   "source": [
    "### Comprendemos los tipos de datos y aprendemos a identificarlos\n",
    "\n"
   ]
  },
  {
   "cell_type": "code",
   "execution_count": 19,
   "id": "a991a6cf",
   "metadata": {},
   "outputs": [
    {
     "name": "stdout",
     "output_type": "stream",
     "text": [
      "<class 'str'>\n",
      "<class 'int'>\n",
      "<class 'float'>\n",
      "<class 'bool'>\n"
     ]
    }
   ],
   "source": [
    "#Visualizamos los tipos de datos * en python no es necesario declarar el tipo de dato\n",
    "print(type(nombre))           # str -> texto\n",
    "print(type(edad))             # int -> número entero\n",
    "print(type(altura))           # float -> número decimal\n",
    "print(type(registrado))       # bool -> verdadero/falso"
   ]
  },
  {
   "cell_type": "markdown",
   "id": "cc67a02a",
   "metadata": {},
   "source": [
    "> 💡 **Los tipos de datos condicionan las operaciones que se pueden realizar, como cálculos, modificaciones o representación visual**  "
   ]
  },
  {
   "cell_type": "code",
   "execution_count": 20,
   "id": "d73aee3c",
   "metadata": {},
   "outputs": [
    {
     "name": "stdout",
     "output_type": "stream",
     "text": [
      "Edad como string: 30\n"
     ]
    }
   ],
   "source": [
    "#Creación de una variable nueva a partir de otra cambiando el tipo de dato\n",
    "edad_str = str(edad)\n",
    "print(\"Edad como string:\", edad_str)\n"
   ]
  },
  {
   "cell_type": "code",
   "execution_count": 21,
   "id": "eb2495a8",
   "metadata": {},
   "outputs": [
    {
     "name": "stdout",
     "output_type": "stream",
     "text": [
      "<class 'str'>\n"
     ]
    }
   ],
   "source": [
    "print(type(edad_str))"
   ]
  },
  {
   "cell_type": "markdown",
   "id": "84837f68",
   "metadata": {},
   "source": [
    "## 🔤 1.4. Manipulación de cadenas de caracteres (string):\n",
    "\n",
    "### 📝 **Operaciones Básicas:**\n",
    "\n",
    "💾 **`Asignación`** Es el proceso de guardar una cadena de texto en una variable.\n"
   ]
  },
  {
   "cell_type": "code",
   "execution_count": null,
   "id": "c9989cf6",
   "metadata": {},
   "outputs": [
    {
     "name": "stdout",
     "output_type": "stream",
     "text": [
      "Ana\n"
     ]
    }
   ],
   "source": [
    "#Ejemplo de asignación\n",
    "nombre = \"Ana\"\n",
    "print(nombre) "
   ]
  },
  {
   "cell_type": "code",
   "execution_count": 63,
   "id": "c49d060b",
   "metadata": {},
   "outputs": [
    {
     "name": "stdout",
     "output_type": "stream",
     "text": [
      "Ana María López\n"
     ]
    }
   ],
   "source": [
    "nombre += \" María\"\n",
    "nombre += \" López\"\n",
    "print(nombre) "
   ]
  },
  {
   "cell_type": "markdown",
   "id": "1c7e78c5",
   "metadata": {},
   "source": [
    "📊 **`Información`** Obtener datos sobre la cadena como su longitud con `len()` o contar ocurrencias con `count()`."
   ]
  },
  {
   "cell_type": "code",
   "execution_count": 70,
   "id": "299f4a51",
   "metadata": {},
   "outputs": [
    {
     "name": "stdout",
     "output_type": "stream",
     "text": [
      "Longitud del mensaje: 46\n",
      "Número de veces que aparece 'a': 5\n"
     ]
    }
   ],
   "source": [
    "#Ejemplo de información\n",
    "mensaje = \"Hola, Ana María López. Tienes un nuevo mensaje\"\n",
    "print(\"Longitud del mensaje:\", len(mensaje))\n",
    "print(\"Número de veces que aparece 'a':\", mensaje.count(\"a\"))"
   ]
  },
  {
   "cell_type": "markdown",
   "id": "84c792b5",
   "metadata": {},
   "source": [
    "\n",
    "🔗 **`Concatenación`** Consiste en unir dos o más cadenas para formar una sola."
   ]
  },
  {
   "cell_type": "code",
   "execution_count": 65,
   "id": "ad2dfdfa",
   "metadata": {},
   "outputs": [
    {
     "name": "stdout",
     "output_type": "stream",
     "text": [
      "Hola, Ana María López. Tienes un nuevo mensaje\n"
     ]
    }
   ],
   "source": [
    "#Ejemplo de concatenación\n",
    "saludo = \"Hola\"\n",
    "mensaje = \"Tienes un nuevo mensaje\"\n",
    "print(saludo + \", \" + nombre + \". \" + mensaje) #Atención a los espacios y signos de puntuación"
   ]
  },
  {
   "cell_type": "code",
   "execution_count": 129,
   "id": "beeae0cd",
   "metadata": {},
   "outputs": [
    {
     "name": "stdout",
     "output_type": "stream",
     "text": [
      "Hola, Ana María López. Hola, Ana María López. Tienes un nuevo mensaje\n"
     ]
    }
   ],
   "source": [
    "#Concatenación con f-strings (forma recomendada)\n",
    "print(f\"{saludo}, {nombre}. {mensaje}\") #Atención a los espacios y signos de puntuación"
   ]
  },
  {
   "cell_type": "markdown",
   "id": "22654111",
   "metadata": {},
   "source": [
    "🔍 **`Búsqueda`** Permite localizar un carácter o una subcadena dentro de una cadena."
   ]
  },
  {
   "cell_type": "code",
   "execution_count": 66,
   "id": "6730bf1f",
   "metadata": {},
   "outputs": [
    {
     "name": "stdout",
     "output_type": "stream",
     "text": [
      "La subcadena 'María' empieza en la posición: 10\n"
     ]
    }
   ],
   "source": [
    "#Ejemplo de búsqueda\n",
    "mensaje = \"Hola, Ana María López. Tienes un nuevo mensaje\"\n",
    "posición_subcadena = mensaje.find(\"María\")\n",
    "print(\"La subcadena 'María' empieza en la posición:\", posición_subcadena)"
   ]
  },
  {
   "cell_type": "markdown",
   "id": "c709227f",
   "metadata": {},
   "source": [
    "> 💡 **Las posiciones se cuentan desde 0**"
   ]
  },
  {
   "cell_type": "markdown",
   "id": "4b386658",
   "metadata": {},
   "source": [
    "✂️ **`Extracción`** Consiste en obtener una parte (subcadena) de una cadena principal."
   ]
  },
  {
   "cell_type": "code",
   "execution_count": 68,
   "id": "dba1073f",
   "metadata": {},
   "outputs": [
    {
     "name": "stdout",
     "output_type": "stream",
     "text": [
      "Subcadena extraída: Ana M\n"
     ]
    }
   ],
   "source": [
    "#Ejemplo de extracción\n",
    "subcadena = mensaje[6:11]  # Extrae desde la posición 6 hasta la 10 (11 no incluido)\n",
    "print(\"Subcadena extraída:\", subcadena)"
   ]
  },
  {
   "cell_type": "markdown",
   "id": "a7685fc9",
   "metadata": {},
   "source": [
    "\n",
    "\n",
    "⚖️ **`Comparación`** Permite verificar si dos cadenas son iguales o determinar cuál es mayor según el orden lexicográfico."
   ]
  },
  {
   "cell_type": "code",
   "execution_count": 69,
   "id": "5346d07b",
   "metadata": {},
   "outputs": [
    {
     "data": {
      "text/plain": [
       "False"
      ]
     },
     "execution_count": 69,
     "metadata": {},
     "output_type": "execute_result"
    }
   ],
   "source": [
    "#Ejemplo de comparación\n",
    "mensaje_1 = \"Hola, Ana\"\n",
    "mensaje_2 = \"Hola, Ana María\"\n",
    "mensaje_1 == mensaje_2  # Devuelve False porque son diferentes"
   ]
  },
  {
   "cell_type": "markdown",
   "id": "ce34bf94",
   "metadata": {},
   "source": [
    "### 🛠️ **Transformaciones Avanzadas:**\n",
    "\n",
    "🎨 **`Transformación de formato`** Cambiar entre mayúsculas y minúsculas usando métodos como `upper()`, `lower()`, `title()` y `capitalize()`."
   ]
  },
  {
   "cell_type": "code",
   "execution_count": 106,
   "id": "cc0feb1e",
   "metadata": {},
   "outputs": [
    {
     "name": "stdout",
     "output_type": "stream",
     "text": [
      "Nombre en mayúsculas: ANA MARÍA LÓPEZ\n"
     ]
    }
   ],
   "source": [
    "#Ejemplo de método upper\n",
    "nombre_mayusculas = nombre.upper()\n",
    "print(\"Nombre en mayúsculas:\", nombre_mayusculas)"
   ]
  },
  {
   "cell_type": "code",
   "execution_count": 107,
   "id": "3ae9449e",
   "metadata": {},
   "outputs": [
    {
     "name": "stdout",
     "output_type": "stream",
     "text": [
      "Nombre en minúsculas: ana maría lópez\n"
     ]
    }
   ],
   "source": [
    "#Ejemplo de método lower\n",
    "nombre_minusculas = nombre.lower()\n",
    "print(\"Nombre en minúsculas:\", nombre_minusculas)"
   ]
  },
  {
   "cell_type": "code",
   "execution_count": 108,
   "id": "c2055463",
   "metadata": {},
   "outputs": [
    {
     "name": "stdout",
     "output_type": "stream",
     "text": [
      "Nombre en formato title: Ana María López\n"
     ]
    }
   ],
   "source": [
    "#Ejemplo de title\n",
    "nombre_title = nombre.title() # Cada palabra empieza con mayúscula\n",
    "print(\"Nombre en formato title:\", nombre_title)"
   ]
  },
  {
   "cell_type": "code",
   "execution_count": 109,
   "id": "70920732",
   "metadata": {},
   "outputs": [
    {
     "name": "stdout",
     "output_type": "stream",
     "text": [
      "Nombre en formato capitalize: Ana maría lópez\n"
     ]
    }
   ],
   "source": [
    "#Ejemplo de capitalize\n",
    "nombre_capitalize = nombre.capitalize() # Solo la primera letra de la primera palabra en mayúscula\n",
    "print(\"Nombre en formato capitalize:\", nombre_capitalize)"
   ]
  },
  {
   "cell_type": "markdown",
   "id": "45296c47",
   "metadata": {},
   "source": [
    "🧹 **`Limpieza de espacios`** Eliminar espacios en blanco al inicio y final de una cadena con `strip()`, `lstrip()` y `rstrip()`.\n"
   ]
  },
  {
   "cell_type": "code",
   "execution_count": null,
   "id": "11dc3238",
   "metadata": {},
   "outputs": [
    {
     "name": "stdout",
     "output_type": "stream",
     "text": [
      "Texto original: '   Hola, Ana María López.   '\n",
      "Texto limpio: 'Hola, Ana María López.'\n"
     ]
    }
   ],
   "source": [
    "#Ejemplo con strip para eliminar espacios en blanco al inicio y final\n",
    "texto_con_espacios = \"   Hola, Ana María López.   \"\n",
    "texto_limpio = texto_con_espacios.strip()\n",
    "print(\"Texto original:\", repr(texto_con_espacios)) # repr() se utiliza para mostrar los espacios\n",
    "print(\"Texto limpio:\", repr(texto_limpio))"
   ]
  },
  {
   "cell_type": "code",
   "execution_count": 118,
   "id": "f96cd8bf",
   "metadata": {},
   "outputs": [
    {
     "name": "stdout",
     "output_type": "stream",
     "text": [
      "Texto limpio al inicio: 'Hola, Ana María López.   '\n"
     ]
    }
   ],
   "source": [
    "#Ejemplo con lstrip para eliminar espacios en blanco al inicio\n",
    "texto_limpio_inicio = texto_con_espacios.lstrip()\n",
    "print(\"Texto limpio al inicio:\", repr(texto_limpio_inicio))"
   ]
  },
  {
   "cell_type": "code",
   "execution_count": 119,
   "id": "699f88c8",
   "metadata": {},
   "outputs": [
    {
     "name": "stdout",
     "output_type": "stream",
     "text": [
      "Texto limpio al final: '   Hola, Ana María López.'\n"
     ]
    }
   ],
   "source": [
    "#Ejemplo de rstrip para eliminar espacios en blanco al final\n",
    "texto_limpio_final = texto_con_espacios.rstrip()\n",
    "print(\"Texto limpio al final:\", repr(texto_limpio_final))"
   ]
  },
  {
   "cell_type": "markdown",
   "id": "bf151ad5",
   "metadata": {},
   "source": [
    "\n",
    "🔄 **`Reemplazo`** Sustituir partes del texto por otras usando el método `replace()`.\n"
   ]
  },
  {
   "cell_type": "code",
   "execution_count": 121,
   "id": "a8400fc8",
   "metadata": {},
   "outputs": [
    {
     "name": "stdout",
     "output_type": "stream",
     "text": [
      "Mensaje original: Hola, Ana María López. Tienes un nuevo mensaje\n",
      "Mensaje modificado: Hola, Ana María López. Tienes un importante mensaje\n"
     ]
    }
   ],
   "source": [
    "#Ejemplo de método replace\n",
    "mensaje_nuevo = mensaje.replace(\"nuevo\", \"importante\")\n",
    "print(\"Mensaje original:\", mensaje)\n",
    "print(\"Mensaje modificado:\", mensaje_nuevo)"
   ]
  },
  {
   "cell_type": "markdown",
   "id": "b358769a",
   "metadata": {},
   "source": [
    "\n",
    "📋 **`División`** Separar una cadena en una lista de subcadenas utilizando `split()`."
   ]
  },
  {
   "cell_type": "code",
   "execution_count": 123,
   "id": "9c132a4a",
   "metadata": {},
   "outputs": [
    {
     "name": "stdout",
     "output_type": "stream",
     "text": [
      "Mensaje dividido en palabras: ['Hola,', 'Ana', 'María', 'López.', 'Tienes', 'un', 'nuevo', 'mensaje']\n"
     ]
    }
   ],
   "source": [
    "#Ejemplo de split para dividir una cadena en una lista\n",
    "partes = mensaje.split(\" \")  # Divide el mensaje en palabras usando el espacio como separador\n",
    "print(\"Mensaje dividido en palabras:\", partes)"
   ]
  },
  {
   "cell_type": "markdown",
   "id": "7c4187d3",
   "metadata": {},
   "source": [
    "# ⚙️ 2. OPERADORES\n",
    "## 🎯2.1. Definición\n",
    "Un **operador** es un símbolo especial que indica a Python que debe realizar una operación sobre uno o varios **valores** (operandos).\n",
    "\n",
    "> 💡Los operadores permiten hacer cálculos, comparaciones, comprobaciones lógicas y manipulaciones de datos.  \n",
    "\n",
    "\n",
    "## 🏷️ 2.2. Tipos principales de operadores\n",
    "| Tipo de Operador       | Símbolos Comunes         | Descripción                                      | Ejemplo                      |\n",
    "|-----------------------|--------------------------|--------------------------------------------------|------------------------------|\n",
    "| **Aritméticos**       | `+`, `-`, `*`, `/`, `%`, `**`, `//` | Realizan operaciones matemáticas básicas         | `a = 5 + 3` (suma)            |\n",
    "| **De Comparación**   | `==`, `!=`, `>`, `<`, `>=`, `<=` | Comparan dos valores y devuelven un booleano | `a == b` (igualdad)        |\n",
    "| **Lógicos**           | `and`, `or`, `not` | Combinan expresiones booleanas                   | `a and b` (y lógico)          |\n",
    "| **De Asignación**     | `=`, `+=`, `-=`, `*=`, `/=` | Asignan valores a variables                       | `a += 2` (incremento)          |\n",
    "| **De Identidad**      | `is`, `is not` | Verifican si dos variables apuntan al mismo objeto | `a is b` (misma identidad) |\n",
    "| **De Pertenencia**    | `in`, `not in` | Verifican si un valor está en una secuencia       | `'a' in 'abc'` (pertenencia)   |\n"
   ]
  },
  {
   "cell_type": "markdown",
   "id": "8fb7cf0b",
   "metadata": {},
   "source": [
    "### 2.2.1 Operadores aritméticos:"
   ]
  },
  {
   "cell_type": "code",
   "execution_count": 71,
   "id": "3c19a6fb",
   "metadata": {},
   "outputs": [
    {
     "data": {
      "text/plain": [
       "31"
      ]
     },
     "execution_count": 71,
     "metadata": {},
     "output_type": "execute_result"
    }
   ],
   "source": [
    "# EJEMPLOS OPERADORES ARITMËTICOS\n",
    "\n",
    "edad_siguiente = edad + 1             # Sumar -> edad el próximo año\n",
    "edad_siguiente"
   ]
  },
  {
   "cell_type": "code",
   "execution_count": 72,
   "id": "9dc99c9c",
   "metadata": {},
   "outputs": [
    {
     "data": {
      "text/plain": [
       "165.0"
      ]
     },
     "execution_count": 72,
     "metadata": {},
     "output_type": "execute_result"
    }
   ],
   "source": [
    "altura_cm = altura * 100              # Multiplicar -> convertir a centímetros\n",
    "altura_cm"
   ]
  },
  {
   "cell_type": "code",
   "execution_count": 73,
   "id": "bce43983",
   "metadata": {},
   "outputs": [
    {
     "data": {
      "text/plain": [
       "35"
      ]
     },
     "execution_count": 73,
     "metadata": {},
     "output_type": "execute_result"
    }
   ],
   "source": [
    "años_hasta_jubilacion = 65 - edad     # Restar -> cuántos años faltan\n",
    "años_hasta_jubilacion"
   ]
  },
  {
   "cell_type": "code",
   "execution_count": 74,
   "id": "c79b5986",
   "metadata": {},
   "outputs": [
    {
     "data": {
      "text/plain": [
       "15.0"
      ]
     },
     "execution_count": 74,
     "metadata": {},
     "output_type": "execute_result"
    }
   ],
   "source": [
    "mitad_edad = edad / 2                 # División con decimales\n",
    "mitad_edad"
   ]
  },
  {
   "cell_type": "code",
   "execution_count": 75,
   "id": "f60ca91a",
   "metadata": {},
   "outputs": [
    {
     "name": "stdout",
     "output_type": "stream",
     "text": [
      "Década: 3 ; Par: 0 ; Edad al cuadrado: 900\n"
     ]
    }
   ],
   "source": [
    "decada = edad // 10                   # División entera -> número de décadas\n",
    "resto_division = edad % 2             # Módulo -> comprobar si la edad es par\n",
    "edad_al_cuadrado = edad ** 2          # Potencia -> edad al cuadrado\n",
    "\n",
    "print(\"Década:\", decada, \"; Par:\", resto_division, \"; Edad al cuadrado:\", edad_al_cuadrado)"
   ]
  },
  {
   "cell_type": "markdown",
   "id": "f9b0ba6a",
   "metadata": {},
   "source": [
    "### 2.2.2 Operadores relacionales o de comparación:"
   ]
  },
  {
   "cell_type": "code",
   "execution_count": 127,
   "id": "439bd368",
   "metadata": {},
   "outputs": [
    {
     "name": "stdout",
     "output_type": "stream",
     "text": [
      "True False True True\n"
     ]
    }
   ],
   "source": [
    "# EJEMPLOS OPERADORES RELACIONALES O DE COMPARACIÓN\n",
    "es_mayor_de_edad = edad >= 18\n",
    "es_menor_de_30 = edad < 30\n",
    "cumple_edad_exacta = edad == 30\n",
    "edad_diferente = edad != 25\n",
    "\n",
    "print(es_mayor_de_edad, es_menor_de_30, cumple_edad_exacta, edad_diferente)"
   ]
  },
  {
   "cell_type": "markdown",
   "id": "a7c0d51b",
   "metadata": {},
   "source": [
    "### 2.2.3 Operadores lógicos:"
   ]
  },
  {
   "cell_type": "code",
   "execution_count": 77,
   "id": "1dab0b4b",
   "metadata": {},
   "outputs": [
    {
     "name": "stdout",
     "output_type": "stream",
     "text": [
      "False True False\n"
     ]
    }
   ],
   "source": [
    "# EJEMPLOS DE OPERADORES LÓGICOS\n",
    "es_joven_y_registrado = (edad < 30) and registrado\n",
    "es_joven_o_registrado = (edad < 30) or registrado\n",
    "no_registrado = not registrado\n",
    "\n",
    "print(es_joven_y_registrado, es_joven_o_registrado, no_registrado)"
   ]
  },
  {
   "cell_type": "code",
   "execution_count": 78,
   "id": "3435f2b8",
   "metadata": {},
   "outputs": [
    {
     "name": "stdout",
     "output_type": "stream",
     "text": [
      "True False True\n"
     ]
    }
   ],
   "source": [
    "# Otros ejemplos de operadores lógicos\n",
    "tiene_email = email != \"\"\n",
    "es_adulto_no_registrado = (edad >= 18) and (not registrado)\n",
    "puede_recibir_ofertas = registrado or tiene_email\n",
    "\n",
    "print(tiene_email, es_adulto_no_registrado, puede_recibir_ofertas)"
   ]
  },
  {
   "cell_type": "markdown",
   "id": "5c707a8f",
   "metadata": {},
   "source": [
    "### 2.2.4 Operadores de pertenencia:"
   ]
  },
  {
   "cell_type": "code",
   "execution_count": 79,
   "id": "ed9cdaed",
   "metadata": {},
   "outputs": [
    {
     "name": "stdout",
     "output_type": "stream",
     "text": [
      "True False True\n"
     ]
    }
   ],
   "source": [
    "# EJEMPLOS OPERADORES DE PERTENENCIA\n",
    "tiene_color_azul = \"azul\" in seleccion_color\n",
    "tiene_color_verde = \"verde\" in seleccion_color\n",
    "tiene_color_rojo = \"rojo\" not in seleccion_color\n",
    "print(tiene_color_azul, tiene_color_verde, tiene_color_rojo)\n"
   ]
  },
  {
   "cell_type": "markdown",
   "id": "35ca5a2d",
   "metadata": {},
   "source": [
    "### 2.2.5 Operadores de identidad:"
   ]
  },
  {
   "cell_type": "code",
   "execution_count": 80,
   "id": "fbff0774",
   "metadata": {},
   "outputs": [
    {
     "name": "stdout",
     "output_type": "stream",
     "text": [
      "True True False\n"
     ]
    }
   ],
   "source": [
    "# EJEMPLOS DE OPERADORES DE IDENTIDAD\n",
    "\n",
    "es_mismo_objeto1 = (edad is edad)               # True, mismo objeto\n",
    "es_mismo_objeto2 = (edad is not edad_str)\n",
    "es_mismo_objeto3 = (edad is edad_str)       # True, distinto objeto\n",
    "print(es_mismo_objeto1, es_mismo_objeto2, es_mismo_objeto3)"
   ]
  },
  {
   "cell_type": "markdown",
   "id": "827752a2",
   "metadata": {},
   "source": [
    "# 🗂️ 3. ESTRUCTURAS DE DATOS\n",
    "## 🎯3.1. Definición\n",
    "En programación, las estructuras de datos son formas de organizar y almacenar información en la memoria del ordenador para que podamos acceder y manipularla de manera eficiente.\n",
    "\n",
    "En Python, las principales son:\n",
    "\n",
    "### 3.1. Listas `(list)`:\n",
    "\n",
    "Una lista es una colección ordenada y modificable de elementos.\n",
    "\n",
    "Características:\n",
    "\n",
    "- Pueden contener diferentes tipos de datos.\n",
    "- Permiten elementos duplicados.\n",
    "- Se accede a sus elementos por índices.\n"
   ]
  },
  {
   "cell_type": "markdown",
   "id": "9c8617f9",
   "metadata": {},
   "source": [
    "#### 3.1.1 Creación de listas:"
   ]
  },
  {
   "cell_type": "code",
   "execution_count": 81,
   "id": "e1ccc62a",
   "metadata": {},
   "outputs": [],
   "source": [
    "# 1. Lista vacía\n",
    "personas = []       # Creamos una lista sin elementos\n",
    "personas = list()   # Otra forma equivalente\n",
    "\n",
    "# 2. Lista con elementos (simulamos varios registros de personas)\n",
    "personas = [\n",
    "    \"Ana\",\n",
    "    \"Luis\",\n",
    "    \"María\",\n",
    "    \"Carlos\",\n",
    "    \"Ana\"  # Nota: las listas permiten duplicados\n",
    "]"
   ]
  },
  {
   "cell_type": "markdown",
   "id": "b7eb6ac0",
   "metadata": {},
   "source": [
    "#### 3.1.2 Inserción y actualización:"
   ]
  },
  {
   "cell_type": "code",
   "execution_count": 82,
   "id": "2b6fe307",
   "metadata": {},
   "outputs": [
    {
     "name": "stdout",
     "output_type": "stream",
     "text": [
      "Después de append: ['Ana', 'Luis', 'María', 'Carlos', 'Ana', 'Lucía']\n"
     ]
    }
   ],
   "source": [
    "# Añadir un nuevo registro de persona al final\n",
    "personas.append(\"Lucía\")\n",
    "print(\"Después de append:\", personas)"
   ]
  },
  {
   "cell_type": "code",
   "execution_count": 83,
   "id": "c31eb56c",
   "metadata": {},
   "outputs": [
    {
     "name": "stdout",
     "output_type": "stream",
     "text": [
      "Después de insert: ['Pedro', 'Ana', 'Luis', 'María', 'Carlos', 'Ana', 'Lucía']\n"
     ]
    }
   ],
   "source": [
    "# Insertar un registro en una posición concreta (ejemplo: al inicio)\n",
    "personas.insert(0, \"Pedro\")\n",
    "print(\"Después de insert:\", personas)"
   ]
  },
  {
   "cell_type": "code",
   "execution_count": 84,
   "id": "e80a8c3d",
   "metadata": {},
   "outputs": [
    {
     "name": "stdout",
     "output_type": "stream",
     "text": [
      "Después de update: ['Pedro', 'Ana', 'Luis Alberto', 'María', 'Carlos', 'Ana', 'Lucía']\n"
     ]
    }
   ],
   "source": [
    "# Actualizar un valor de la lista (ejemplo: cambiar \"Luis\" por \"Luis Alberto\")\n",
    "personas[2] = \"Luis Alberto\"\n",
    "print(\"Después de update:\", personas)"
   ]
  },
  {
   "cell_type": "markdown",
   "id": "fc3cefe6",
   "metadata": {},
   "source": [
    "#### 3.1.3 Borrados:"
   ]
  },
  {
   "cell_type": "code",
   "execution_count": 85,
   "id": "5526458e",
   "metadata": {},
   "outputs": [
    {
     "name": "stdout",
     "output_type": "stream",
     "text": [
      "Pedro\n",
      "['Ana', 'Luis Alberto', 'María', 'Carlos', 'Ana', 'Lucía']\n"
     ]
    }
   ],
   "source": [
    "# Borrar y recuperar el elemento que está en una posición concreta (ejemplo: el primer registro)\n",
    "persona_borrada = personas.pop(0)\n",
    "print(persona_borrada)\n",
    "print(personas)"
   ]
  },
  {
   "cell_type": "markdown",
   "id": "2a533889",
   "metadata": {},
   "source": [
    "#### 3.1.4 Acceso a las listas:"
   ]
  },
  {
   "cell_type": "code",
   "execution_count": 86,
   "id": "556c6945",
   "metadata": {},
   "outputs": [],
   "source": [
    "# Creamos de nuevo una lista de personas para mostrar los accesos\n",
    "personas = [\"Ana\", \"Luis\", \"María\", \"Carlos\", \"Lucía\"]"
   ]
  },
  {
   "cell_type": "code",
   "execution_count": 87,
   "id": "310537f4",
   "metadata": {},
   "outputs": [
    {
     "name": "stdout",
     "output_type": "stream",
     "text": [
      "Ana\n"
     ]
    }
   ],
   "source": [
    "# Acceso por índice\n",
    "primera_persona = personas[0]        \n",
    "print(primera_persona)"
   ]
  },
  {
   "cell_type": "code",
   "execution_count": 88,
   "id": "d6ad2a08",
   "metadata": {},
   "outputs": [
    {
     "name": "stdout",
     "output_type": "stream",
     "text": [
      "['Ana', 'Luis']\n"
     ]
    }
   ],
   "source": [
    "dos_primeras_personas = personas[0:2]\n",
    "print(dos_primeras_personas)"
   ]
  },
  {
   "cell_type": "code",
   "execution_count": 89,
   "id": "7293421f",
   "metadata": {},
   "outputs": [
    {
     "name": "stdout",
     "output_type": "stream",
     "text": [
      "ultima persona:  Lucía . Dos últimas personas:  ['Carlos', 'Lucía']\n"
     ]
    }
   ],
   "source": [
    "# Acceso al final de la lista con índices negativos\n",
    "ultima_persona = personas[-1]         \n",
    "dos_ultimas_personas = personas[-2:]\n",
    "print(\"ultima persona: \", ultima_persona, \". Dos últimas personas: \", dos_ultimas_personas)"
   ]
  },
  {
   "cell_type": "markdown",
   "id": "653ea4d2",
   "metadata": {},
   "source": [
    "#### 3.1.1. Métodos de list\n",
    "\n",
    "| Método             | Explicación                                                                 | Ejemplo                                              |\n",
    "| ------------------ | --------------------------------------------------------------------------- | ---------------------------------------------------- |\n",
    "| `append(x)`        | Añade un elemento al final.                                                 | `nombres.append(\"Ana\")` → `[\"Luis\", \"María\", \"Ana\"]` |\n",
    "| `extend(iterable)` | Añade varios elementos de otro iterable (lista, set, tupla…).               | `nombres.extend([\"Pedro\", \"Lucía\"])`                 |\n",
    "| `insert(i, x)`     | Inserta un elemento en la posición `i`.                                     | `nombres.insert(1, \"Sofía\")`                         |\n",
    "| `remove(x)`        | Elimina la primera ocurrencia de `x`.                                       | `nombres.remove(\"María\")`                            |\n",
    "| `pop(i)`           | Elimina y devuelve el elemento en la posición `i` (último si no se indica). | `nombres.pop()`                                      |\n",
    "| `clear()`          | Borra todos los elementos.                                                  | `nombres.clear()`                                    |\n",
    "| `index(x)`         | Devuelve la posición de la primera ocurrencia de `x`.                       | `nombres.index(\"Luis\")`                              |\n",
    "| `count(x)`         | Cuenta cuántas veces aparece `x`.                                           | `nombres.count(\"Ana\")`                               |\n",
    "| `sort()`           | Ordena la lista (in place).                                                 | `numeros.sort()`                                     |\n",
    "| `reverse()`        | Invierte el orden de la lista.                                              | `numeros.reverse()`                                  |\n",
    "| `copy()`           | Devuelve una copia superficial.                                             | `lista2 = nombres.copy()`                            |\n"
   ]
  },
  {
   "cell_type": "markdown",
   "id": "7fc3705f",
   "metadata": {},
   "source": [
    "### 3.2. Conjuntos `(sets)`:\n",
    "\n",
    "Un conjunto es una colección desordenada de elementos únicos.\n",
    "\n",
    "Características:\n",
    "\n",
    "- No permite duplicados.\n",
    "- No garantiza el orden.\n",
    "- Muy útiles para comprobar pertenencia o eliminar repeticiones."
   ]
  },
  {
   "cell_type": "code",
   "execution_count": 90,
   "id": "67431e61",
   "metadata": {},
   "outputs": [
    {
     "name": "stdout",
     "output_type": "stream",
     "text": [
      "{'Luis', 'Ana', 'María'}\n"
     ]
    }
   ],
   "source": [
    "################### 1. CREACIÓN DE SETS #####################\n",
    "\n",
    "# 1. Set vacío\n",
    "personas = set()\n",
    "\n",
    "# 2. Inicializar un set con elementos (nombres de personas)\n",
    "personas = {\"Ana\", \"Luis\", \"María\", \"Ana\"}  # El duplicado de \"Ana\" no se guarda\n",
    "print(personas)  # {'Luis', 'Ana', 'María'}"
   ]
  },
  {
   "cell_type": "code",
   "execution_count": 91,
   "id": "5564f142",
   "metadata": {},
   "outputs": [
    {
     "name": "stdout",
     "output_type": "stream",
     "text": [
      "Personas: {'Luis', 'Ana', 'Carmen', 'María'}\n"
     ]
    }
   ],
   "source": [
    "################### 2. INSERTAR Y ACTUALIZAR #####################\n",
    "\n",
    "# Añadir una persona\n",
    "personas.add(\"Carmen\")  \n",
    "print(\"Personas:\", personas)"
   ]
  },
  {
   "cell_type": "code",
   "execution_count": 92,
   "id": "95f291aa",
   "metadata": {},
   "outputs": [
    {
     "name": "stdout",
     "output_type": "stream",
     "text": [
      "Personas: {'Lucía', 'Luis', 'Carmen', 'María', 'Ana', 'Pedro'}\n"
     ]
    }
   ],
   "source": [
    "# Actualizar un set con varias personas nuevas\n",
    "personas.update({\"Pedro\", \"Lucía\"})  \n",
    "print(\"Personas:\", personas)"
   ]
  },
  {
   "cell_type": "code",
   "execution_count": 93,
   "id": "0e7146ff",
   "metadata": {},
   "outputs": [
    {
     "name": "stdout",
     "output_type": "stream",
     "text": [
      "Personas: {'Lucía', 'Luis', 'Carmen', 'María', 'Ana', 'Pedro'}\n"
     ]
    }
   ],
   "source": [
    "# Copiar un set (ejemplo: guardar una versión original antes de modificaciones)\n",
    "copia_personas = personas.copy()\n",
    "\n",
    "print(\"Personas:\", personas)"
   ]
  },
  {
   "cell_type": "code",
   "execution_count": 94,
   "id": "cb6fb708",
   "metadata": {},
   "outputs": [
    {
     "name": "stdout",
     "output_type": "stream",
     "text": [
      "Después de borrados: {'Lucía', 'Carmen', 'María', 'Ana', 'Pedro'}\n"
     ]
    }
   ],
   "source": [
    "################### 3. BORRADOS #####################\n",
    "\n",
    "# Eliminar una persona, si existe (no da error si no está)\n",
    "personas.discard(\"Luis\")  \n",
    "\n",
    "# Eliminar una persona, pero da error si no existe\n",
    "# personas.remove(\"Juan\")  # Lanzaría un error porque Juan no está\n",
    "\n",
    "# Borrar todo el set\n",
    "# personas.clear()\n",
    "\n",
    "print(\"Después de borrados:\", personas)"
   ]
  },
  {
   "cell_type": "code",
   "execution_count": 95,
   "id": "a0e2f3b0",
   "metadata": {},
   "outputs": [
    {
     "name": "stdout",
     "output_type": "stream",
     "text": [
      "Solo en grupo 1: {'Luis', 'Ana'}\n",
      "En ambos grupos: {'María', 'Pedro'}\n",
      "Todos los nombres: {'Lucía', 'Luis', 'Javier', 'Pedro', 'María', 'Ana'}\n"
     ]
    }
   ],
   "source": [
    "################### 4. OPERACIONES DE SETS #####################\n",
    "\n",
    "# Supongamos que tenemos dos grupos de personas:\n",
    "grupo_1 = {\"Ana\", \"Luis\", \"María\", \"Pedro\"}\n",
    "grupo_2 = {\"Pedro\", \"Lucía\", \"María\", \"Javier\"}\n",
    "\n",
    "# Personas que están en grupo_1 pero no en grupo_2\n",
    "solo_grupo_1 = grupo_1.difference(grupo_2)  \n",
    "print(\"Solo en grupo 1:\", solo_grupo_1)\n",
    "\n",
    "# Personas en ambos grupos\n",
    "en_ambos = grupo_1.intersection(grupo_2)  \n",
    "print(\"En ambos grupos:\", en_ambos)\n",
    "\n",
    "# Unión de todos los nombres de ambos grupos\n",
    "todos = grupo_1.union(grupo_2)  \n",
    "print(\"Todos los nombres:\", todos)"
   ]
  },
  {
   "cell_type": "code",
   "execution_count": 96,
   "id": "7f4b8945",
   "metadata": {},
   "outputs": [
    {
     "name": "stdout",
     "output_type": "stream",
     "text": [
      "Listado de personas en el set:\n",
      "Lucía\n",
      "Carmen\n",
      "María\n",
      "Ana\n",
      "Pedro\n"
     ]
    }
   ],
   "source": [
    "################### 5. ACCESO A LOS SETS #####################\n",
    "\n",
    "# No podemos acceder por índice (como en listas), \n",
    "# pero podemos recorrerlos en un bucle.\n",
    "print(\"Listado de personas en el set:\")\n",
    "for persona in personas:\n",
    "    print(persona)"
   ]
  },
  {
   "cell_type": "markdown",
   "id": "9b6c4ab5",
   "metadata": {},
   "source": [
    "##### 3.2.1. Métodos de sets\n",
    "\n",
    "| Método                    | Explicación                                    | Ejemplo                              |\n",
    "| ------------------------- | ---------------------------------------------- | ------------------------------------ |\n",
    "| `add(x)`                  | Añade un elemento al conjunto.                 | `personas.add(\"Ana\")`                |\n",
    "| `update(iterable)`        | Añade varios elementos desde un iterable.      | `personas.update([\"Luis\", \"María\"])` |\n",
    "| `remove(x)`               | Elimina `x`. Da error si no existe.            | `personas.remove(\"Ana\")`             |\n",
    "| `discard(x)`              | Elimina `x` si existe, sin error si no está.   | `personas.discard(\"Ana\")`            |\n",
    "| `pop()`                   | Elimina y devuelve un elemento aleatorio.      | `personas.pop()`                     |\n",
    "| `clear()`                 | Elimina todos los elementos.                   | `personas.clear()`                   |\n",
    "| `copy()`                  | Devuelve una copia del set.                    | `grupo2 = personas.copy()`           |\n",
    "| `union(s)`                | Devuelve la unión con otro set.                | `set1.union(set2)`                   |\n",
    "| `intersection(s)`         | Devuelve la intersección con otro set.         | `set1.intersection(set2)`            |\n",
    "| `difference(s)`           | Elementos en el primero pero no en el segundo. | `set1.difference(set2)`              |\n",
    "| `symmetric_difference(s)` | Elementos en uno u otro pero no en ambos.      | `set1.symmetric_difference(set2)`    |\n"
   ]
  },
  {
   "cell_type": "markdown",
   "id": "3762e5ae",
   "metadata": {},
   "source": [
    "##### 3.3. Tuplas `(sets)`:\n",
    "\n",
    "Una tupla es una estructura de datos inmutable en Python.\n",
    "Esto significa que, una vez creada, no se puede modificar:\n",
    "\n",
    "- No puedes cambiar sus valores, ni añadir elementos, ni eliminarlos.\n",
    "- Se utilizan cuando queremos guardar información fija, que no debería cambiar a lo largo del programa.\n",
    "\n",
    "Son muy útiles para representar información fija, por ejemplo:\n",
    "\n",
    "- datos personales básicos (nombre, apellidos),\n",
    "\n",
    "- coordenadas geográficas,\n",
    "\n",
    "- pares clave-valor inmutables."
   ]
  },
  {
   "cell_type": "code",
   "execution_count": 97,
   "id": "573a7ab0",
   "metadata": {},
   "outputs": [],
   "source": [
    "################### 1. CREACIÓN DE TUPLAS #####################\n",
    "\n",
    "# Tupla vacía\n",
    "tupla_vacia = ()\n",
    "\n",
    "# Tupla con varios elementos\n",
    "tupla_uno = ('Arturo', 'Lorenzo', 'Hernandez')\n",
    "tupla_dos = ('R2D2', 'Coder')\n",
    "\n",
    "# Tupla con un único elemento (OJO: hay que poner la coma)\n",
    "tupla_un_solo = ('Arturo',)"
   ]
  },
  {
   "cell_type": "code",
   "execution_count": 98,
   "id": "c6273554",
   "metadata": {},
   "outputs": [
    {
     "name": "stdout",
     "output_type": "stream",
     "text": [
      "('Arturo', 'Lorenzo', 'Hernandez', 'Nuevo')\n"
     ]
    }
   ],
   "source": [
    "################### 2. INSERCIÓN Y ACTUALIZACIÓN #####################\n",
    "\n",
    "# ⚠️ Las tuplas son inmutables → no tienen métodos como append, insert ni update.\n",
    "# Una vez creadas, NO se pueden cambiar.\n",
    "\n",
    "# Si quieres \"actualizar\" una tupla, en realidad estás creando una nueva:\n",
    "tupla_actualizada = tupla_uno + ('Nuevo',)\n",
    "print(tupla_actualizada)  \n",
    "# ('Arturo', 'Lorenzo', 'Hernandez', 'Nuevo')"
   ]
  },
  {
   "cell_type": "code",
   "execution_count": 99,
   "id": "2f661627",
   "metadata": {},
   "outputs": [],
   "source": [
    "################### 3. BORRADOS #####################\n",
    "\n",
    "# No se pueden borrar elementos individuales de una tupla.\n",
    "# Lo único posible es borrar la tupla completa de memoria:\n",
    "\n",
    "del tupla_vacia"
   ]
  },
  {
   "cell_type": "code",
   "execution_count": 100,
   "id": "1beb0c33",
   "metadata": {},
   "outputs": [
    {
     "name": "stdout",
     "output_type": "stream",
     "text": [
      "('Arturo', 'Lorenzo', 'Hernandez', 'R2D2', 'Coder')\n",
      "('R2D2', 'Coder', 'R2D2', 'Coder')\n",
      "0\n",
      "1\n"
     ]
    }
   ],
   "source": [
    "################### 4. OPERACIONES CON TUPLAS #####################\n",
    "\n",
    "# Unión de tuplas (concatenación)\n",
    "tupla_tres = tupla_uno + tupla_dos  \n",
    "print(tupla_tres)  \n",
    "# ('Arturo', 'Lorenzo', 'Hernandez', 'R2D2', 'Coder')\n",
    "\n",
    "# Repetición\n",
    "tupla_repetida = tupla_dos * 2  \n",
    "print(tupla_repetida)  \n",
    "# ('R2D2', 'Coder', 'R2D2', 'Coder')\n",
    "\n",
    "# Métodos disponibles:\n",
    "index_arturo = tupla_uno.index('Arturo')  \n",
    "print(index_arturo)  \n",
    "# Devuelve el índice → 0\n",
    "\n",
    "count_coder = tupla_tres.count('Coder')  \n",
    "print(count_coder)  \n",
    "# Devuelve cuántas veces aparece → 1\n"
   ]
  },
  {
   "cell_type": "code",
   "execution_count": 101,
   "id": "3cd4c1bd",
   "metadata": {},
   "outputs": [
    {
     "name": "stdout",
     "output_type": "stream",
     "text": [
      "Arturo\n",
      "('Lorenzo', 'Hernandez')\n",
      "Arturo\n",
      "Lorenzo\n",
      "Hernandez\n",
      "R2D2\n",
      "Coder\n"
     ]
    }
   ],
   "source": [
    "################### 5. ACCESO A LAS TUPLAS #####################\n",
    "\n",
    "# Acceso por índice\n",
    "print(tupla_uno[0])  \n",
    "# 'Arturo'\n",
    "\n",
    "# Acceso por intervalo (slicing)\n",
    "print(tupla_uno[1:3])  \n",
    "# ('Lorenzo', 'Hernandez')\n",
    "\n",
    "# Recorrer con bucle\n",
    "for elemento in tupla_tres:\n",
    "    print(elemento)\n"
   ]
  },
  {
   "cell_type": "markdown",
   "id": "4e8203fd",
   "metadata": {},
   "source": [
    "##### 3.3.1. Métodos de tuplas\n",
    "\n",
    "| Método     | Explicación                                           | Ejemplo                    |\n",
    "| ---------- | ----------------------------------------------------- | -------------------------- |\n",
    "| `count(x)` | Cuenta cuántas veces aparece `x`.                     | `(1,2,2,3).count(2)` → `2` |\n",
    "| `index(x)` | Devuelve la posición de la primera ocurrencia de `x`. | `(1,2,3).index(2)` → `1`   |\n"
   ]
  },
  {
   "cell_type": "markdown",
   "id": "d8bcf050",
   "metadata": {},
   "source": [
    "##### 3.4. Diccionarios `(dict)`:\n",
    "\n",
    "Un diccionario es una estructura de datos mutable en Python.\n",
    "Esto significa que podemos añadir, modificar y eliminar elementos en cualquier momento:\n",
    "\n",
    "- Cada elemento del diccionario se compone de una clave única y un valor asociado.\n",
    "\n",
    "- Las claves deben ser únicas e inmutables (strings, números, tuplas, etc.), mientras que los valores pueden ser de cualquier tipo, incluso listas, tuplas, sets o incluso otros diccionarios.\n",
    "\n",
    "- Permiten acceder a los valores de forma rápida usando la clave.\n",
    "\n",
    "Son muy útiles para representar información estructurada de forma clara, por ejemplo:\n",
    "\n",
    "- datos completos de una persona (nombre, edad, altura, email, color preferido, registrado o no),\n",
    "- información de un registro de base de datos,\n",
    "- parámetros de configuración de un programa,\n",
    "- estructuras complejas con datos anidados, como varias personas en un mismo diccionario."
   ]
  },
  {
   "cell_type": "code",
   "execution_count": 102,
   "id": "c23b8420",
   "metadata": {},
   "outputs": [
    {
     "name": "stdout",
     "output_type": "stream",
     "text": [
      "Laura\n"
     ]
    }
   ],
   "source": [
    "################### 1. CREACIÓN Y ACCESO DE DICCIONARIOS #####################\n",
    "\n",
    "# Diccionario vacío inicializado con dict()\n",
    "personas = dict()\n",
    "\n",
    "# Diccionario definido con tuplas (clave, valor)\n",
    "personas = dict([\n",
    "    (\"persona1\", {\"nombre\": \"Laura\", \"edad\": 32}),\n",
    "    (\"persona2\", {\"nombre\": \"Carlos\", \"edad\": 28})\n",
    "])\n",
    "\n",
    "# Diccionario inicializado con información más completa\n",
    "personas = {\n",
    "    \"persona1\": {\n",
    "        \"nombre\": \"Laura\",\n",
    "        \"edad\": 32,\n",
    "        \"altura\": 1.68,\n",
    "        \"color_preferido\": \"azul\"\n",
    "    },\n",
    "    \"persona2\": {\n",
    "        \"nombre\": \"Carlos\",\n",
    "        \"edad\": 28,\n",
    "        \"altura\": 1.75,\n",
    "        \"color_preferido\": \"rojo\"\n",
    "    }\n",
    "}\n",
    "\n",
    "# Acceso directo\n",
    "print(personas[\"persona1\"][\"nombre\"])  # \"Laura\"\n",
    "\n"
   ]
  },
  {
   "cell_type": "code",
   "execution_count": 103,
   "id": "f7f03ca1",
   "metadata": {},
   "outputs": [
    {
     "name": "stdout",
     "output_type": "stream",
     "text": [
      "{'persona1': {'nombre': 'Laura', 'edad': 32, 'altura': 1.68, 'color_preferido': 'verde', 'registrado': True, 'colores_favoritos': ['azul', 'amarillo', 'rojo']}, 'persona2': {'nombre': 'Carlos', 'edad': 28, 'altura': 1.76, 'color_preferido': 'rojo'}, 'persona3': {'nombre': 'Ana', 'edad': 25, 'altura': 1.62, 'color_preferido': 'verde'}}\n"
     ]
    }
   ],
   "source": [
    "################### 2. INSERCIÓN Y ACTUALIZACIÓN EN DICCIONARIOS #####################\n",
    "\n",
    "# Añadir una nueva persona\n",
    "personas[\"persona3\"] = {\n",
    "    \"nombre\": \"Ana\",\n",
    "    \"edad\": 25,\n",
    "    \"altura\": 1.62,\n",
    "    \"color_preferido\": \"verde\"\n",
    "}\n",
    "\n",
    "# Actualizar información existente con update()\n",
    "personas[\"persona1\"].update({\"color_preferido\": \"verde\", \"registrado\": True})\n",
    "\n",
    "# Actualizar un valor dentro de una subestructura mutable (lista dentro del diccionario)\n",
    "personas[\"persona1\"][\"colores_favoritos\"] = [\"azul\", \"amarillo\"]\n",
    "personas[\"persona1\"][\"colores_favoritos\"].append(\"rojo\")\n",
    "\n",
    "# Sustituir completamente un valor\n",
    "personas[\"persona2\"][\"altura\"] = 1.76\n",
    "\n",
    "print(personas)\n"
   ]
  },
  {
   "cell_type": "code",
   "execution_count": 104,
   "id": "e495b6b9",
   "metadata": {},
   "outputs": [
    {
     "name": "stdout",
     "output_type": "stream",
     "text": [
      "{'nombre': 'Ana', 'edad': 25, 'altura': 1.62, 'color_preferido': 'verde'}\n"
     ]
    }
   ],
   "source": [
    "################### 3. BORRADOS DE ELEMENTOS EN DICCIONARIOS #####################\n",
    "\n",
    "# Borra un elemento indicando la clave y devuelve el valor eliminado\n",
    "persona_eliminada = personas.pop(\"persona3\")  \n",
    "print(persona_eliminada)\n",
    "\n",
    "# Borra todos los elementos del diccionario\n",
    "# personas.clear()\n"
   ]
  },
  {
   "cell_type": "code",
   "execution_count": 105,
   "id": "1b76d559",
   "metadata": {},
   "outputs": [
    {
     "name": "stdout",
     "output_type": "stream",
     "text": [
      "persona1 → Nombre: Laura, Edad: 32, Altura: 1.68\n",
      "persona2 → Nombre: Carlos, Edad: 28, Altura: 1.76\n"
     ]
    }
   ],
   "source": [
    "################### 4. ACCESO A ELEMENTOS EN DICCIONARIOS #####################\n",
    "\n",
    "# get() devuelve el valor asociado a una clave; si no existe, devuelve un valor por defecto\n",
    "nombre_persona1 = personas.get(\"persona1\", \"No existe la persona\")\n",
    "nombre_persona4 = personas.get(\"persona4\", \"No existe la persona\")\n",
    "\n",
    "# items() devuelve pares clave-valor\n",
    "personas_items = personas.items()\n",
    "\n",
    "# keys() devuelve solo las claves\n",
    "personas_keys = personas.keys()\n",
    "\n",
    "# Recorrido completo del diccionario\n",
    "for clave, datos in personas.items():\n",
    "    print(f\"{clave} → Nombre: {datos.get('nombre')}, Edad: {datos.get('edad')}, Altura: {datos.get('altura')}\")\n"
   ]
  },
  {
   "cell_type": "markdown",
   "id": "fffc5b39",
   "metadata": {},
   "source": [
    "##### 3.4.1. Métodos de dict:\n",
    "\n",
    "| Método             | Explicación                                                       | Ejemplo                                  |\n",
    "| ------------------ | ----------------------------------------------------------------- | ---------------------------------------- |\n",
    "| `get(k)`           | Devuelve el valor de `k`, o `None` si no existe.                  | `persona.get(\"edad\")`                    |\n",
    "| `keys()`           | Devuelve una vista con todas las claves.                          | `persona.keys()`                         |\n",
    "| `values()`         | Devuelve una vista con todos los valores.                         | `persona.values()`                       |\n",
    "| `items()`          | Devuelve pares `(clave, valor)`.                                  | `persona.items()`                        |\n",
    "| `update(d)`        | Añade o actualiza elementos desde otro diccionario.               | `persona.update({\"edad\": 31})`           |\n",
    "| `pop(k)`           | Elimina y devuelve el valor asociado a `k`.                       | `persona.pop(\"edad\")`                    |\n",
    "| `popitem()`        | Elimina y devuelve el último par `(clave, valor)`.                | `persona.popitem()`                      |\n",
    "| `clear()`          | Elimina todos los pares.                                          | `persona.clear()`                        |\n",
    "| `copy()`           | Devuelve una copia superficial.                                   | `copia = persona.copy()`                 |\n",
    "| `setdefault(k, v)` | Devuelve el valor de `k`. Si no existe, lo inserta con valor `v`. | `persona.setdefault(\"ciudad\", \"Madrid\")` |\n"
   ]
  },
  {
   "cell_type": "markdown",
   "id": "4d33bf6e",
   "metadata": {},
   "source": []
  },
  {
   "cell_type": "markdown",
   "id": "531c4dd0",
   "metadata": {},
   "source": [
    "## Ejercicio 1: Variables y tipos de datos\n",
    "\n",
    "**Objetivo:** Practicar la creación de variables y tipos de datos básicos.\n",
    "\n",
    "**Instrucciones:**\n",
    "1. Crea variables para representar una persona:\n",
    "   - `nombre` (string)\n",
    "   - `edad` (int)\n",
    "   - `altura` (float)\n",
    "   - `registrado` (booleano)\n",
    "   - `color_preferido` (string)\n",
    "   - `email` (string)\n",
    "2. Imprime cada variable y su tipo utilizando `print()` y `type()`.\n",
    "3. Crea una cadena de caracteres."
   ]
  },
  {
   "cell_type": "markdown",
   "id": "d0d87bbe",
   "metadata": {},
   "source": [
    "## Ejercicio 2: Listas y operaciones básicas\n",
    "\n",
    "**Objetivo:** Practicar listas, acceso, inserción y borrado de elementos.\n",
    "\n",
    "**Instrucciones:**\n",
    "1. Crea una lista con los nombres de 5 personas.\n",
    "2. Añade un nuevo nombre al final de la lista usando `.append()`.\n",
    "3. Inserta un nombre en la segunda posición usando `.insert()`.\n",
    "4. Elimina un nombre usando `.remove()` y otro usando `.pop()`.\n",
    "5. Imprime la lista completa y los dos primeros y últimos elementos usando slicing.\n"
   ]
  },
  {
   "cell_type": "markdown",
   "id": "eac974ae",
   "metadata": {},
   "source": [
    "## Ejercicio 3: Sets y tuplas\n",
    "\n",
    "**Objetivo:** Practicar sets y tuplas, su inmutabilidad y operaciones de conjuntos.\n",
    "\n",
    "**Instrucciones:**\n",
    "1. Crea un set con los colores preferidos de las personas: `{\"azul\", \"verde\", \"rojo\"}`.\n",
    "2. Añade un color nuevo con `.add()` y otro con `.update()`.\n",
    "3. Elimina un color usando `.discard()`.\n",
    "4. Crea una tupla con los nombres de las personas y realiza:\n",
    "   - Obtener el índice de un nombre con `.index()`.\n",
    "   - Contar cuántas veces aparece un nombre con `.count()`.\n",
    "   - Concatenar la tupla con otra de dos nombres nuevos.\n"
   ]
  },
  {
   "cell_type": "markdown",
   "id": "756fd7c7",
   "metadata": {},
   "source": [
    "## Ejercicio 4: Diccionarios y manipulación de datos\n",
    "\n",
    "**Objetivo:** Practicar diccionarios, acceso, actualización y recorrido.\n",
    "\n",
    "**Instrucciones:**\n",
    "1. Crea un diccionario llamado `persona` con las claves:\n",
    "   - `nombre`, `edad`, `altura`, `registrado`, `color_preferido`.\n",
    "2. Añade un nuevo dato: `email`.\n",
    "3. Actualiza el `color_preferido` a otro color.\n",
    "4. Crea un diccionario `personas` con 2 personas, cada una representada como un diccionario anidado.\n",
    "5. Imprime la información de cada persona en un bucle:\n"
   ]
  },
  {
   "cell_type": "code",
   "execution_count": null,
   "id": "bd7cfaae",
   "metadata": {},
   "outputs": [],
   "source": [
    "# Ejercicio 1: Variables y tipos de datos\n",
    "\n",
    "# 1. Crear variables de una persona\n",
    "nombre = \"Laura\"           # string\n",
    "edad = 32                  # int\n",
    "altura = 1.68              # float\n",
    "registrado = True          # booleano\n",
    "color_preferido = \"azul\"   # string\n",
    "email = \"laura@example.com\" # string\n",
    "\n",
    "# 2. Imprimir cada variable con su tipo\n",
    "print(\"Nombre:\", nombre, \", Tipo:\", type(nombre))\n",
    "print(\"Edad:\", edad, \", Tipo:\", type(edad))\n",
    "print(\"Altura:\", altura, \", Tipo:\", type(altura))\n",
    "print(\"Registrado:\", registrado, \", Tipo:\", type(registrado))\n",
    "print(\"Color preferido:\", color_preferido, \", Tipo:\", type(color_preferido))\n",
    "print(\"Email:\", email, \", Tipo:\", type(email))\n"
   ]
  },
  {
   "cell_type": "code",
   "execution_count": null,
   "id": "38d00cbd",
   "metadata": {},
   "outputs": [],
   "source": [
    "# Ejercicio 2: Listas y operaciones básicas\n",
    "\n",
    "# 1. Crear lista de nombres\n",
    "personas = [\"Laura\", \"Carlos\", \"Ana\", \"Luis\", \"Marta\"]\n",
    "\n",
    "# 2. Añadir un nuevo nombre al final\n",
    "personas.append(\"Elena\")\n",
    "\n",
    "# 3. Insertar un nombre en la segunda posición\n",
    "personas.insert(1, \"Pedro\")\n",
    "\n",
    "# 4. Eliminar un nombre usando remove() y otro usando pop()\n",
    "personas.remove(\"Ana\")      # elimina \"Ana\"\n",
    "nombre_eliminado = personas.pop(2)  # elimina el elemento en índice 2 y lo devuelve\n",
    "\n",
    "# 5. Imprimir lista completa y los dos primeros y últimos elementos\n",
    "print(\"Lista completa:\", personas)\n",
    "print(\"Dos primeros:\", personas[:2])\n",
    "print(\"Dos últimos:\", personas[-2:])\n"
   ]
  },
  {
   "cell_type": "code",
   "execution_count": null,
   "id": "f47e3543",
   "metadata": {},
   "outputs": [],
   "source": [
    "# Ejercicio 3: Sets y tuplas\n",
    "\n",
    "# 1. Crear set de colores preferidos\n",
    "colores = {\"azul\", \"verde\", \"rojo\"}\n",
    "\n",
    "# 2. Añadir colores\n",
    "colores.add(\"amarillo\")\n",
    "colores.update({\"morado\", \"naranja\"})  # añadir varios colores a la vez\n",
    "\n",
    "# 3. Eliminar un color\n",
    "colores.discard(\"rojo\")  # si no existe no lanza error\n",
    "\n",
    "print(\"Colores finales:\", colores)\n",
    "\n",
    "# 4. Tupla de nombres de personas\n",
    "nombres = (\"Laura\", \"Carlos\", \"Luis\")\n",
    "\n",
    "# Índice de un nombre\n",
    "indice_carlos = nombres.index(\"Carlos\")\n",
    "print(\"Índice de Carlos:\", indice_carlos)\n",
    "\n",
    "# Contar cuántas veces aparece un nombre\n",
    "cuenta_luis = nombres.count(\"Luis\")\n",
    "print(\"Luis aparece:\", cuenta_luis, \"veces\")\n",
    "\n",
    "# Concatenar tupla con otra tupla\n",
    "nuevos_nombres = (\"Marta\", \"Elena\")\n",
    "todos_nombres = nombres + nuevos_nombres\n",
    "print(\"Todos los nombres:\", todos_nombres)\n"
   ]
  },
  {
   "cell_type": "code",
   "execution_count": null,
   "id": "5e7bffc5",
   "metadata": {},
   "outputs": [],
   "source": [
    "# Ejercicio 4: Diccionarios y manipulación de datos\n",
    "\n",
    "# 1. Crear diccionario de una persona\n",
    "persona = {\n",
    "    \"nombre\": \"Laura\",\n",
    "    \"edad\": 32,\n",
    "    \"altura\": 1.68,\n",
    "    \"registrado\": True,\n",
    "    \"color_preferido\": \"azul\"\n",
    "}\n",
    "\n",
    "# 2. Añadir email\n",
    "persona[\"email\"] = \"laura@example.com\"\n",
    "\n",
    "# 3. Actualizar color preferido\n",
    "persona[\"color_preferido\"] = \"verde\"\n",
    "\n",
    "# 4. Diccionario de varias personas\n",
    "personas = {\n",
    "    \"persona1\": {\"nombre\": \"Laura\", \"edad\": 32, \"altura\": 1.68},\n",
    "    \"persona2\": {\"nombre\": \"Carlos\", \"edad\": 28, \"altura\": 1.75}\n",
    "}\n",
    "\n",
    "# 5. Recorrer e imprimir información de cada persona\n",
    "for clave, datos in personas.items():\n",
    "    print(f\"Nombre: {datos.get('nombre')}, Edad: {datos.get('edad')}, Altura: {datos.get('altura')}\")\n",
    "\n",
    "# 6. Borrar una persona usando pop()\n",
    "persona_eliminada = personas.pop(\"persona2\")\n",
    "print(\"Persona eliminada:\", persona_eliminada)\n",
    "print(\"Diccionario actual:\", personas)\n"
   ]
  },
  {
   "cell_type": "markdown",
   "id": "df09439e",
   "metadata": {},
   "source": [
    "#### 4. CONDICIONALES `(if, elif, else)`\n",
    "\n",
    "Los condicionales permiten que nuestro programa tome decisiones según ciertas condiciones.\n",
    "En Python, usamos las palabras clave if, elif y else.\n",
    "\n",
    "- `if` → se ejecuta si la condición es verdadera.\n",
    "- `elif` → se ejecuta si las condiciones anteriores no se cumplieron y esta sí.\n",
    "- `else` → se ejecuta si ninguna de las condiciones anteriores se cumple.\n",
    "\n",
    "Se utilizan para filtrar datos, validar información o tomar decisiones en análisis de datos."
   ]
  },
  {
   "cell_type": "code",
   "execution_count": null,
   "id": "0f56462e",
   "metadata": {},
   "outputs": [],
   "source": [
    "############################# SINTAXIS #####################################\n",
    "\n",
    "# CONDICIÓN SIMPLE\n",
    "#if condition1:\n",
    "#    accion1\n",
    "#elif condition2:\n",
    "#    accion2\n",
    "#else:\n",
    "#    accion3\n",
    "\n",
    "# CONDICIÓN ANIDADA\n",
    "#if condition1:\n",
    "#    if condition2:\n",
    "#        accion1\n",
    "#    elif condition3:\n",
    "#        accion2\n",
    "#    else:\n",
    "#        accion3\n",
    "#elif condition4:\n",
    "#    accion4"
   ]
  },
  {
   "cell_type": "code",
   "execution_count": null,
   "id": "d49aec98",
   "metadata": {},
   "outputs": [],
   "source": []
  }
 ],
 "metadata": {
  "kernelspec": {
   "display_name": ".venv",
   "language": "python",
   "name": "python3"
  },
  "language_info": {
   "codemirror_mode": {
    "name": "ipython",
    "version": 3
   },
   "file_extension": ".py",
   "mimetype": "text/x-python",
   "name": "python",
   "nbconvert_exporter": "python",
   "pygments_lexer": "ipython3",
   "version": "3.13.5"
  }
 },
 "nbformat": 4,
 "nbformat_minor": 5
}
